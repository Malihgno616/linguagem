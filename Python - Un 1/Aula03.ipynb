{
 "cells": [
  {
   "cell_type": "code",
   "execution_count": 1,
   "metadata": {},
   "outputs": [
    {
     "name": "stdout",
     "output_type": "stream",
     "text": [
      "1\n",
      "2\n",
      "3\n",
      "4\n",
      "5\n"
     ]
    }
   ],
   "source": [
    "#Estrutura de Repetição em Python\n",
    "\n",
    "#For\n",
    "#While\n",
    "\n",
    "numeros = [1,2,3,4,5]\n",
    "\n",
    "for num in numeros:\n",
    "    print(num)"
   ]
  },
  {
   "cell_type": "code",
   "execution_count": 3,
   "metadata": {},
   "outputs": [
    {
     "name": "stdout",
     "output_type": "stream",
     "text": [
      "Este número é ímpar\n",
      "Este número é par\n",
      "Este número é par\n"
     ]
    }
   ],
   "source": [
    "#Usando While\n",
    "numero = int(input(\"Digite um número ou 0 para sair:\"))\n",
    "\n",
    "while numero != 0:\n",
    "    if numero % 2 == 0:\n",
    "        print(\"Este número é par\")\n",
    "    else:\n",
    "        print(\"Este número é ímpar\")\n",
    "    numero = int(input(\"Digite um numero ou digite 0 para sair\"))\n"
   ]
  },
  {
   "cell_type": "code",
   "execution_count": 4,
   "metadata": {},
   "outputs": [
    {
     "name": "stdout",
     "output_type": "stream",
     "text": [
      "0\n",
      "1\n",
      "2\n",
      "3\n",
      "4\n"
     ]
    }
   ],
   "source": [
    "#Repetição por quantidade\n",
    "\n",
    "for x in range(5):\n",
    "    print(x)"
   ]
  },
  {
   "cell_type": "code",
   "execution_count": 5,
   "metadata": {},
   "outputs": [
    {
     "name": "stdout",
     "output_type": "stream",
     "text": [
      "2\n",
      "3\n",
      "4\n",
      "5\n",
      "6\n"
     ]
    }
   ],
   "source": [
    "#Limites inicial e superior\n",
    "\n",
    "for y in range(2,7):\n",
    "    print(y)"
   ]
  },
  {
   "cell_type": "code",
   "execution_count": 6,
   "metadata": {},
   "outputs": [
    {
     "name": "stdout",
     "output_type": "stream",
     "text": [
      "1\n",
      "3\n",
      "5\n",
      "7\n",
      "9\n"
     ]
    }
   ],
   "source": [
    "#Com incremento\n",
    "for z in range(1,11,2):\n",
    "    print(z)"
   ]
  },
  {
   "cell_type": "code",
   "execution_count": 12,
   "metadata": {},
   "outputs": [
    {
     "name": "stdout",
     "output_type": "stream",
     "text": [
      "Primeiro numero encontrado: 2\n"
     ]
    }
   ],
   "source": [
    "#For usando o break\n",
    "\n",
    "for x in range(1,11):\n",
    "    if x % 2 == 0:\n",
    "        print(\"Primeiro numero encontrado:\",x)\n",
    "        break"
   ]
  },
  {
   "cell_type": "code",
   "execution_count": 13,
   "metadata": {},
   "outputs": [
    {
     "name": "stdout",
     "output_type": "stream",
     "text": [
      "1\n",
      "2\n",
      "3\n",
      "4\n",
      "6\n",
      "7\n",
      "8\n",
      "9\n",
      "10\n"
     ]
    }
   ],
   "source": [
    "#For usando o continue\n",
    "for x in range (1,11):\n",
    "    if x == 5:\n",
    "        continue\n",
    "    print(x)\n",
    "\n"
   ]
  },
  {
   "cell_type": "code",
   "execution_count": 8,
   "metadata": {},
   "outputs": [
    {
     "name": "stdout",
     "output_type": "stream",
     "text": [
      "Bem vindo a Classificação dos filmes\n",
      "Avalie os 5 filmes que você assistiu\n",
      "Avalie-os de 1 a 5 ou tecle 0 para cancelar \n",
      "\n",
      "Filme 1: 4 estrelas\n",
      "Filme 2: 5 estrelas\n",
      "Filme 3: 4 estrelas\n",
      "Filme 4: 3 estrelas\n",
      "Filme 5: 2 estrelas\n",
      "Obrigado por avaliar os nossos filmes\n",
      "\n"
     ]
    }
   ],
   "source": [
    "#Exercício for\n",
    "\n",
    "filmes = [\"Filme 1\", \"Filme 2\", \"Filme 3\", \"Filme 4\", \"Filme 5\"]\n",
    "\n",
    "print(\"Bem vindo a Classificação dos filmes\")\n",
    "print(\"Avalie os 5 filmes que você assistiu\")\n",
    "print(\"Avalie-os de 1 a 5 ou tecle 0 para cancelar \\n\")\n",
    "\n",
    "for filme in filmes:\n",
    "    avaliar = int(input(f\"Nota para o filme {filme} de 1 a 5: \"))\n",
    "    if avaliar == 0:\n",
    "        print(f\"{filme} avaliação cancelada!!\")\n",
    "        break\n",
    "    \n",
    "    avaliar = int(avaliar)\n",
    "    \n",
    "    if avaliar <1 or avaliar >5:\n",
    "        print(\"Por favor, escolha um numero entre 1 e 5 para avaliar\")\n",
    "    else:\n",
    "        print(f\"{filme}: {avaliar} estrelas\")\n",
    "\n",
    "\n",
    "print(\"Obrigado por avaliar os nossos filmes\\n\")\n",
    "    \n",
    "    \n",
    "    \n",
    "    \n",
    "        "
   ]
  }
 ],
 "metadata": {
  "kernelspec": {
   "display_name": "Python 3",
   "language": "python",
   "name": "python3"
  },
  "language_info": {
   "codemirror_mode": {
    "name": "ipython",
    "version": 3
   },
   "file_extension": ".py",
   "mimetype": "text/x-python",
   "name": "python",
   "nbconvert_exporter": "python",
   "pygments_lexer": "ipython3",
   "version": "3.12.4"
  }
 },
 "nbformat": 4,
 "nbformat_minor": 2
}
