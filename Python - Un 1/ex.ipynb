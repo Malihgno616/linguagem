{
 "cells": [
  {
   "cell_type": "code",
   "execution_count": 23,
   "metadata": {},
   "outputs": [
    {
     "name": "stdout",
     "output_type": "stream",
     "text": [
      "Com a nossa promoção o seu produto custará 750.0 R$\n",
      "Com a nossa promoção o seu produto custará 675.0 R$\n",
      "Com a nossa promoção o seu produto custará 750.0 R$\n",
      "cancelado..x\n"
     ]
    }
   ],
   "source": [
    "# Cálculo para desconto de produtos\n",
    "\n",
    "def desconto(A):\n",
    "    promo = A * (25/100)\n",
    "    return promo\n",
    "\n",
    "\n",
    "while True:\n",
    "    preco = float(input(\"Digite o preco do seu produto ou digite 0 para sair.\"))\n",
    "    if preco == 0:\n",
    "        print(\"cancelado..x\")\n",
    "        break\n",
    "    \n",
    "    total = preco - desconto(preco)\n",
    "    \n",
    "    print(\"Com a nossa promoção o seu produto custará\", total,\"R$\")\n",
    "            "
   ]
  }
 ],
 "metadata": {
  "kernelspec": {
   "display_name": "Python 3",
   "language": "python",
   "name": "python3"
  },
  "language_info": {
   "codemirror_mode": {
    "name": "ipython",
    "version": 3
   },
   "file_extension": ".py",
   "mimetype": "text/x-python",
   "name": "python",
   "nbconvert_exporter": "python",
   "pygments_lexer": "ipython3",
   "version": "3.12.4"
  }
 },
 "nbformat": 4,
 "nbformat_minor": 2
}
