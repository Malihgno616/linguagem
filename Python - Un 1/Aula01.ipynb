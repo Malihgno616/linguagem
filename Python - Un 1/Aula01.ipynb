{
 "cells": [
  {
   "cell_type": "code",
   "execution_count": 1,
   "metadata": {},
   "outputs": [
    {
     "name": "stdout",
     "output_type": "stream",
     "text": [
      "hello world!\n"
     ]
    }
   ],
   "source": [
    "print(\"hello world!\")\n",
    "#comando de saída de dados"
   ]
  },
  {
   "cell_type": "code",
   "execution_count": 2,
   "metadata": {},
   "outputs": [
    {
     "name": "stdout",
     "output_type": "stream",
     "text": [
      "<class 'int'>\n",
      "<class 'float'>\n",
      "<class 'bool'>\n",
      "<class 'str'>\n"
     ]
    }
   ],
   "source": [
    "x = 10\n",
    "nota = 8.75\n",
    "fez_inscricao = True\n",
    "nome = \"Ackin\"\n",
    "\n",
    "print(type(x))\n",
    "print(type(nota))\n",
    "print(type(fez_inscricao))\n",
    "print(type(nome))\n",
    "#tipo de dados"
   ]
  },
  {
   "cell_type": "code",
   "execution_count": 3,
   "metadata": {},
   "outputs": [
    {
     "name": "stdout",
     "output_type": "stream",
     "text": [
      "Ackin\n"
     ]
    }
   ],
   "source": [
    "nome =(input(\"Digite seu nome: \"))\n",
    "print(nome)\n",
    "#comando de entrada "
   ]
  },
  {
   "cell_type": "code",
   "execution_count": 5,
   "metadata": {},
   "outputs": [
    {
     "name": "stdout",
     "output_type": "stream",
     "text": [
      "Ola Rodolfo seja muito bem vindo ao python!!!\n",
      "Olá Rodolfo seja muito bem vindo ao python\n"
     ]
    }
   ],
   "source": [
    "nome = \"Rodolfo\"\n",
    "\n",
    "#formatadores de caracteres ou variaveis\n",
    "# Usando %s \n",
    "print(\"Ola %s seja muito bem vindo ao python!!!\" %(nome))\n",
    "\n",
    "#F-string\n",
    "print(f\"Olá {nome} seja muito bem vindo ao python\")\n"
   ]
  },
  {
   "cell_type": "code",
   "execution_count": 8,
   "metadata": {},
   "outputs": [
    {
     "name": "stdout",
     "output_type": "stream",
     "text": [
      "Aluno reprovado!!!, nota = 3.5\n"
     ]
    }
   ],
   "source": [
    "#Exercitando-se\n",
    "\n",
    "n1 = int(input())\n",
    "n2 = int(input())\n",
    "n3 = int(input())\n",
    "n4 = int(input())\n",
    "\n",
    "media = (n1+n2+n3+n4)/4\n",
    "\n",
    "if media >= 6:\n",
    "    print(f\"Aluno Aprovado, nota = {media}\")\n",
    "else:\n",
    "    print(\"Aluno reprovado!!!, nota = %s\" %(media))"
   ]
  }
 ],
 "metadata": {
  "kernelspec": {
   "display_name": "Python 3",
   "language": "python",
   "name": "python3"
  },
  "language_info": {
   "codemirror_mode": {
    "name": "ipython",
    "version": 3
   },
   "file_extension": ".py",
   "mimetype": "text/x-python",
   "name": "python",
   "nbconvert_exporter": "python",
   "pygments_lexer": "ipython3",
   "version": "3.12.4"
  }
 },
 "nbformat": 4,
 "nbformat_minor": 2
}
