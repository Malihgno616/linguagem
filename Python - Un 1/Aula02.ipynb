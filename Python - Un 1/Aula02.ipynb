{
 "cells": [
  {
   "cell_type": "code",
   "execution_count": 5,
   "metadata": {},
   "outputs": [
    {
     "name": "stdout",
     "output_type": "stream",
     "text": [
      "Recomendamos o filme de terror!!!\n",
      "Temos ingresso sobrando\n"
     ]
    }
   ],
   "source": [
    "#Estruturas Condicionais\n",
    "\n",
    "#Venda de ingressos \n",
    "\n",
    "idade = int(input(\"Qual a sua idade? \"))\n",
    "\n",
    "if idade < 18:\n",
    "    print(\"Recomendamos o filme adolescente\")\n",
    "elif idade >= 18 and idade <= 65:\n",
    "    print(\"Recomendamos o filme de terror!!!\")\n",
    "else:\n",
    "    print(\"Recomendamos o Filme dos anos 50!!\")    \n",
    "\n",
    "quantia_ingresso = 10\n",
    "\n",
    "if quantia_ingresso == 0:\n",
    "    print(\"Desculpa, mas não temos mais o ingresso deste filme\")\n",
    "else:\n",
    "    print(\"Temos ingresso sobrando\")"
   ]
  }
 ],
 "metadata": {
  "kernelspec": {
   "display_name": "Python 3",
   "language": "python",
   "name": "python3"
  },
  "language_info": {
   "codemirror_mode": {
    "name": "ipython",
    "version": 3
   },
   "file_extension": ".py",
   "mimetype": "text/x-python",
   "name": "python",
   "nbconvert_exporter": "python",
   "pygments_lexer": "ipython3",
   "version": "3.12.4"
  }
 },
 "nbformat": 4,
 "nbformat_minor": 2
}
