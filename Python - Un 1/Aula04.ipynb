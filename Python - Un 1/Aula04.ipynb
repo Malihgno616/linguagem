{
 "cells": [
  {
   "cell_type": "code",
   "execution_count": null,
   "metadata": {},
   "outputs": [],
   "source": [
    "#Funções Built-in\n",
    "#Função definida pelo usuário(com retorno e parâmetro)\n",
    "#Funções anônimas em Python\n"
   ]
  },
  {
   "cell_type": "code",
   "execution_count": 3,
   "metadata": {},
   "outputs": [
    {
     "name": "stdout",
     "output_type": "stream",
     "text": [
      "15 comprimento\n"
     ]
    }
   ],
   "source": [
    "#função built-in\n",
    "\n",
    "numeros = [1,2,3,4,5,7,8,9,9,1,23,1,2,3,3]\n",
    "\n",
    "comprimento = len(numeros)\n",
    "\n",
    "print(comprimento, \"comprimento\")"
   ]
  },
  {
   "cell_type": "code",
   "execution_count": 5,
   "metadata": {},
   "outputs": [
    {
     "name": "stdout",
     "output_type": "stream",
     "text": [
      "O resultado é 8\n"
     ]
    }
   ],
   "source": [
    "#função definida pelo usuário\n",
    "\n",
    "def soma(a,b):\n",
    "    resultado = a + b\n",
    "    \n",
    "    return resultado\n",
    "\n",
    "resultado_soma = soma(5,3)\n",
    "\n",
    "print(\"O resultado é\", resultado_soma)\n"
   ]
  },
  {
   "cell_type": "code",
   "execution_count": 6,
   "metadata": {},
   "outputs": [
    {
     "name": "stdout",
     "output_type": "stream",
     "text": [
      "12323523534645 é um número ímpar\n"
     ]
    }
   ],
   "source": [
    "#definindo uma função par ou impar\n",
    "\n",
    "def ParOuImpar(numero):\n",
    "    if numero % 2 == 0:\n",
    "        return True\n",
    "    else:   \n",
    "        return False\n",
    "    \n",
    "numero = 12323523534645\n",
    "\n",
    "if ParOuImpar(numero):\n",
    "    print(f\"{numero} é um número par.\")\n",
    "else:\n",
    "    print(f\"{numero} é um número ímpar\")    \n",
    "        \n",
    "    "
   ]
  },
  {
   "cell_type": "code",
   "execution_count": 7,
   "metadata": {},
   "outputs": [
    {
     "name": "stdout",
     "output_type": "stream",
     "text": [
      "7\n"
     ]
    }
   ],
   "source": [
    "#função usando lambda\n",
    "\n",
    "soma = lambda a,b: a+b\n",
    "\n",
    "resultado = soma(3,4)\n",
    "\n",
    "print(resultado)\n"
   ]
  },
  {
   "cell_type": "code",
   "execution_count": 1,
   "metadata": {},
   "outputs": [
    {
     "name": "stdout",
     "output_type": "stream",
     "text": [
      "Notas do aluno: [7.7, 8.0, 6.5, 9.5, 7.0]\n",
      "Média do aluno: 7.74\n",
      "Situação do aluno: Aprovado\n"
     ]
    }
   ],
   "source": [
    "#Exercício de função\n",
    "\n",
    "#lista de notas\n",
    "notas = [7.7,8.0,6.5,9.5,7.0]\n",
    "\n",
    "def calcular_media(notas):\n",
    "    \n",
    "    total= sum(notas)\n",
    "    \n",
    "    media = total / len(notas)\n",
    "    \n",
    "    return media\n",
    "\n",
    "arredondar_media = lambda media: round(media, 2)\n",
    "\n",
    "media = calcular_media(notas)\n",
    "\n",
    "media_arredondada = arredondar_media(media)\n",
    "\n",
    "situação = \"Aprovado\" if media_arredondada >= 7 else \"Reprovado\"\n",
    "\n",
    "print(\"Notas do aluno:\", notas)\n",
    "print(\"Média do aluno:\", media_arredondada)\n",
    "print(\"Situação do aluno:\", situação)"
   ]
  }
 ],
 "metadata": {
  "kernelspec": {
   "display_name": "Python 3",
   "language": "python",
   "name": "python3"
  },
  "language_info": {
   "codemirror_mode": {
    "name": "ipython",
    "version": 3
   },
   "file_extension": ".py",
   "mimetype": "text/x-python",
   "name": "python",
   "nbconvert_exporter": "python",
   "pygments_lexer": "ipython3",
   "version": "3.12.4"
  }
 },
 "nbformat": 4,
 "nbformat_minor": 2
}
