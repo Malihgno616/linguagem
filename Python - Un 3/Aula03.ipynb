{
 "cells": [
  {
   "cell_type": "code",
   "execution_count": 2,
   "metadata": {},
   "outputs": [
    {
     "name": "stdout",
     "output_type": "stream",
     "text": [
      "<class 'pandas.core.frame.DataFrame'>\n",
      "RangeIndex: 9598 entries, 0 to 9597\n",
      "Data columns (total 2 columns):\n",
      " #   Column  Non-Null Count  Dtype  \n",
      "---  ------  --------------  -----  \n",
      " 0   data    9598 non-null   object \n",
      " 1   valor   9598 non-null   float64\n",
      "dtypes: float64(1), object(1)\n",
      "memory usage: 150.1+ KB\n",
      "None\n",
      "            data     valor\n",
      "0     04/06/1986  0.065041\n",
      "1     05/06/1986  0.067397\n",
      "2     06/06/1986  0.066740\n",
      "3     09/06/1986  0.068247\n",
      "4     10/06/1986  0.067041\n",
      "...          ...       ...\n",
      "9593  10/09/2024  0.039270\n",
      "9594  11/09/2024  0.039270\n",
      "9595  12/09/2024  0.039270\n",
      "9596  13/09/2024  0.039270\n",
      "9597  16/09/2024  0.039270\n",
      "\n",
      "[9598 rows x 2 columns]\n"
     ]
    }
   ],
   "source": [
    "# Introdução à manupulação de dados com pandas\n",
    "\n",
    "import pandas as pd\n",
    "\n",
    "df_selic = pd.read_json(\"https://api.bcb.gov.br/dados/serie/bcdata.sgs.11/dados?formato=json\")\n",
    "\n",
    "print(df_selic.info())\n",
    "print(df_selic)"
   ]
  },
  {
   "cell_type": "code",
   "execution_count": 3,
   "metadata": {},
   "outputs": [],
   "source": [
    "# Verificar a duplicidade de linhas utilizando drop_duplicates().\n",
    "\n",
    "df_selic.drop_duplicates(keep='last', inplace=True)"
   ]
  },
  {
   "cell_type": "code",
   "execution_count": 4,
   "metadata": {},
   "outputs": [
    {
     "name": "stdout",
     "output_type": "stream",
     "text": [
      "            data     valor\n",
      "0     04/06/1986  0.065041\n",
      "1     05/06/1986  0.067397\n",
      "2     06/06/1986  0.066740\n",
      "3     09/06/1986  0.068247\n",
      "4     10/06/1986  0.067041\n",
      "...          ...       ...\n",
      "9593  10/09/2024  0.039270\n",
      "9594  11/09/2024  0.039270\n",
      "9595  12/09/2024  0.039270\n",
      "9596  13/09/2024  0.039270\n",
      "9597  16/09/2024  0.039270\n",
      "\n",
      "[9598 rows x 2 columns]\n"
     ]
    }
   ],
   "source": [
    "print(df_selic)"
   ]
  },
  {
   "cell_type": "code",
   "execution_count": 5,
   "metadata": {},
   "outputs": [
    {
     "name": "stdout",
     "output_type": "stream",
     "text": [
      "<class 'pandas.core.frame.DataFrame'>\n",
      "RangeIndex: 9598 entries, 0 to 9597\n",
      "Data columns (total 4 columns):\n",
      " #   Column         Non-Null Count  Dtype  \n",
      "---  ------         --------------  -----  \n",
      " 0   data           9598 non-null   object \n",
      " 1   valor          9598 non-null   float64\n",
      " 2   data_extracao  9598 non-null   object \n",
      " 3   responsavel    9598 non-null   object \n",
      "dtypes: float64(1), object(3)\n",
      "memory usage: 300.1+ KB\n",
      "None\n"
     ]
    },
    {
     "data": {
      "text/html": [
       "<div>\n",
       "<style scoped>\n",
       "    .dataframe tbody tr th:only-of-type {\n",
       "        vertical-align: middle;\n",
       "    }\n",
       "\n",
       "    .dataframe tbody tr th {\n",
       "        vertical-align: top;\n",
       "    }\n",
       "\n",
       "    .dataframe thead th {\n",
       "        text-align: right;\n",
       "    }\n",
       "</style>\n",
       "<table border=\"1\" class=\"dataframe\">\n",
       "  <thead>\n",
       "    <tr style=\"text-align: right;\">\n",
       "      <th></th>\n",
       "      <th>data</th>\n",
       "      <th>valor</th>\n",
       "      <th>data_extracao</th>\n",
       "      <th>responsavel</th>\n",
       "    </tr>\n",
       "  </thead>\n",
       "  <tbody>\n",
       "    <tr>\n",
       "      <th>0</th>\n",
       "      <td>04/06/1986</td>\n",
       "      <td>0.065041</td>\n",
       "      <td>2024-09-17</td>\n",
       "      <td>Ackin</td>\n",
       "    </tr>\n",
       "    <tr>\n",
       "      <th>1</th>\n",
       "      <td>05/06/1986</td>\n",
       "      <td>0.067397</td>\n",
       "      <td>2024-09-17</td>\n",
       "      <td>Ackin</td>\n",
       "    </tr>\n",
       "    <tr>\n",
       "      <th>2</th>\n",
       "      <td>06/06/1986</td>\n",
       "      <td>0.066740</td>\n",
       "      <td>2024-09-17</td>\n",
       "      <td>Ackin</td>\n",
       "    </tr>\n",
       "    <tr>\n",
       "      <th>3</th>\n",
       "      <td>09/06/1986</td>\n",
       "      <td>0.068247</td>\n",
       "      <td>2024-09-17</td>\n",
       "      <td>Ackin</td>\n",
       "    </tr>\n",
       "    <tr>\n",
       "      <th>4</th>\n",
       "      <td>10/06/1986</td>\n",
       "      <td>0.067041</td>\n",
       "      <td>2024-09-17</td>\n",
       "      <td>Ackin</td>\n",
       "    </tr>\n",
       "  </tbody>\n",
       "</table>\n",
       "</div>"
      ],
      "text/plain": [
       "         data     valor data_extracao responsavel\n",
       "0  04/06/1986  0.065041    2024-09-17       Ackin\n",
       "1  05/06/1986  0.067397    2024-09-17       Ackin\n",
       "2  06/06/1986  0.066740    2024-09-17       Ackin\n",
       "3  09/06/1986  0.068247    2024-09-17       Ackin\n",
       "4  10/06/1986  0.067041    2024-09-17       Ackin"
      ]
     },
     "execution_count": 5,
     "metadata": {},
     "output_type": "execute_result"
    }
   ],
   "source": [
    "#adicionar colunas\n",
    "\n",
    "from datetime import date\n",
    "from datetime import datetime as dt\n",
    "\n",
    "data_extracao = date.today()\n",
    "\n",
    "df_selic['data_extracao'] = data_extracao\n",
    "df_selic['responsavel'] = \"Ackin\"\n",
    "\n",
    "print(df_selic.info())\n",
    "df_selic.head()\n",
    "\n",
    "\n"
   ]
  },
  {
   "cell_type": "code",
   "execution_count": 9,
   "metadata": {},
   "outputs": [
    {
     "data": {
      "text/html": [
       "<div>\n",
       "<style scoped>\n",
       "    .dataframe tbody tr th:only-of-type {\n",
       "        vertical-align: middle;\n",
       "    }\n",
       "\n",
       "    .dataframe tbody tr th {\n",
       "        vertical-align: top;\n",
       "    }\n",
       "\n",
       "    .dataframe thead th {\n",
       "        text-align: right;\n",
       "    }\n",
       "</style>\n",
       "<table border=\"1\" class=\"dataframe\">\n",
       "  <thead>\n",
       "    <tr style=\"text-align: right;\">\n",
       "      <th></th>\n",
       "      <th>data</th>\n",
       "      <th>valor</th>\n",
       "      <th>data_extracao</th>\n",
       "      <th>responsavel</th>\n",
       "    </tr>\n",
       "  </thead>\n",
       "  <tbody>\n",
       "    <tr>\n",
       "      <th>0</th>\n",
       "      <td>04/06/1986</td>\n",
       "      <td>0.065041</td>\n",
       "      <td>2024-09-17</td>\n",
       "      <td>Ackin</td>\n",
       "    </tr>\n",
       "    <tr>\n",
       "      <th>20</th>\n",
       "      <td>02/07/1986</td>\n",
       "      <td>0.068301</td>\n",
       "      <td>2024-09-17</td>\n",
       "      <td>Ackin</td>\n",
       "    </tr>\n",
       "    <tr>\n",
       "      <th>40</th>\n",
       "      <td>30/07/1986</td>\n",
       "      <td>0.088795</td>\n",
       "      <td>2024-09-17</td>\n",
       "      <td>Ackin</td>\n",
       "    </tr>\n",
       "    <tr>\n",
       "      <th>60</th>\n",
       "      <td>27/08/1986</td>\n",
       "      <td>0.133068</td>\n",
       "      <td>2024-09-17</td>\n",
       "      <td>Ackin</td>\n",
       "    </tr>\n",
       "    <tr>\n",
       "      <th>80</th>\n",
       "      <td>24/09/1986</td>\n",
       "      <td>0.132548</td>\n",
       "      <td>2024-09-17</td>\n",
       "      <td>Ackin</td>\n",
       "    </tr>\n",
       "    <tr>\n",
       "      <th>100</th>\n",
       "      <td>22/10/1986</td>\n",
       "      <td>0.086356</td>\n",
       "      <td>2024-09-17</td>\n",
       "      <td>Ackin</td>\n",
       "    </tr>\n",
       "    <tr>\n",
       "      <th>120</th>\n",
       "      <td>19/11/1986</td>\n",
       "      <td>0.112192</td>\n",
       "      <td>2024-09-17</td>\n",
       "      <td>Ackin</td>\n",
       "    </tr>\n",
       "  </tbody>\n",
       "</table>\n",
       "</div>"
      ],
      "text/plain": [
       "           data     valor data_extracao responsavel\n",
       "0    04/06/1986  0.065041    2024-09-17       Ackin\n",
       "20   02/07/1986  0.068301    2024-09-17       Ackin\n",
       "40   30/07/1986  0.088795    2024-09-17       Ackin\n",
       "60   27/08/1986  0.133068    2024-09-17       Ackin\n",
       "80   24/09/1986  0.132548    2024-09-17       Ackin\n",
       "100  22/10/1986  0.086356    2024-09-17       Ackin\n",
       "120  19/11/1986  0.112192    2024-09-17       Ackin"
      ]
     },
     "execution_count": 9,
     "metadata": {},
     "output_type": "execute_result"
    }
   ],
   "source": [
    "#Filtrando usando loc., utilizando testes booleanos, entre outras medidas. Ele filtra elementos nos dados.\n",
    "\n",
    "df_selic.loc[300]\n",
    "\n",
    "df_selic.loc[[0, 20, 40, 60, 80, 100, 120]]\n"
   ]
  },
  {
   "cell_type": "code",
   "execution_count": 10,
   "metadata": {},
   "outputs": [
    {
     "name": "stdout",
     "output_type": "stream",
     "text": [
      "<class 'pandas.core.series.Series'>\n"
     ]
    }
   ],
   "source": [
    "teste = df_selic['valor'] < 0.01\n",
    "print(type(teste))\n"
   ]
  },
  {
   "cell_type": "code",
   "execution_count": 13,
   "metadata": {},
   "outputs": [
    {
     "name": "stdout",
     "output_type": "stream",
     "text": [
      "itens acima de 50 reais:\n",
      "        nome  quantidade de itens comprados tipo de item  receita total  \\\n",
      "1  Produto B                              1    Vestuário             80   \n",
      "\n",
      "   preço do item  \n",
      "1           80.0  \n"
     ]
    }
   ],
   "source": [
    "import pandas as pd\n",
    "\n",
    "# Criando um DataFrame com 5 linhas de dados\n",
    "\n",
    "data = {\n",
    "    'nome':['Produto A','Produto B','Produto C','Produto A','Produto E'],\n",
    "    'quantidade de itens comprados': [3,1,4,3,2],\n",
    "    'tipo de item':['Eletrônico','Vestuário','Alimento','Eletrônico','Alimento'],\n",
    "    'receita total':[120,80,60,120,90]\n",
    "}\n",
    "df = pd.DataFrame(data)\n",
    "\n",
    "# Duplicando uma linha\n",
    "df.drop_duplicates(keep='last', inplace=True)\n",
    "\n",
    "# Cálculo da coluna preço do item\n",
    "df['preço do item'] = df['receita total'] / df['quantidade de itens comprados']\n",
    "\n",
    "# Selecionando preço do item acima de 50 reais\n",
    "itens_acima_de_50 = df[df['preço do item']>50]\n",
    "\n",
    "print(\"itens acima de 50 reais:\")\n",
    "print(itens_acima_de_50)\n",
    "\n"
   ]
  }
 ],
 "metadata": {
  "kernelspec": {
   "display_name": "Python 3",
   "language": "python",
   "name": "python3"
  },
  "language_info": {
   "codemirror_mode": {
    "name": "ipython",
    "version": 3
   },
   "file_extension": ".py",
   "mimetype": "text/x-python",
   "name": "python",
   "nbconvert_exporter": "python",
   "pygments_lexer": "ipython3",
   "version": "3.12.4"
  }
 },
 "nbformat": 4,
 "nbformat_minor": 2
}
